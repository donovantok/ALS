{
 "cells": [
  {
   "cell_type": "code",
   "execution_count": 1,
   "metadata": {},
   "outputs": [],
   "source": [
    "import pandas as pd"
   ]
  },
  {
   "cell_type": "code",
   "execution_count": 54,
   "metadata": {},
   "outputs": [],
   "source": [
    "# Function for parsing datetimes from original csv file\n",
    "date_parse = lambda x : pd.to_datetime(x, format=\"%a, %Y-%m-%d %H:%M:%S\")\n",
    "\n",
    "cons = pd.read_csv('cons.csv', parse_dates=['create_dt', 'modified_dt'], date_parser=date_parse)\n",
    "cons_email = pd.read_csv('cons_email.csv')\n",
    "cons_email_chapter = pd.read_csv('cons_email_chapter_subscription.csv')"
   ]
  },
  {
   "cell_type": "code",
   "execution_count": 57,
   "metadata": {},
   "outputs": [],
   "source": [
    "# Filter for primary emails\n",
    "cons_email_partial = cons_email[cons_email['is_primary'] == 1]\n",
    "\n",
    "# Filter for columns needed\n",
    "cons_email_partial = cons_email_partial[['cons_email_id', 'cons_id', 'email']]"
   ]
  },
  {
   "cell_type": "code",
   "execution_count": 58,
   "metadata": {},
   "outputs": [],
   "source": [
    "# Filter for desired `chapter_id`\n",
    "cons_email_chapter_partial = cons_email_chapter[cons_email_chapter['chapter_id'] == 1]\n",
    "\n",
    "# Filter for columns needed\n",
    "cons_email_chapter_partial = cons_email_chapter_partial[['cons_email_id', 'isunsub']]"
   ]
  },
  {
   "cell_type": "code",
   "execution_count": 59,
   "metadata": {},
   "outputs": [],
   "source": [
    "email_df = cons_email_partial.merge(cons_email_chapter_partial, on=\"cons_email_id\", how=\"left\")"
   ]
  },
  {
   "cell_type": "code",
   "execution_count": 60,
   "metadata": {},
   "outputs": [],
   "source": [
    "# Any email not in `cons_email_chapter_subscription.csv` is assumed to still be subscribed where chapter_id is 1.\n",
    "email_df['isunsub'] = email_df['isunsub'].fillna(0)\n",
    "\n",
    "# Filter for columns needed\n",
    "email_df = email_df[['cons_id', 'email', 'isunsub']]"
   ]
  },
  {
   "cell_type": "code",
   "execution_count": 61,
   "metadata": {},
   "outputs": [],
   "source": [
    "final_df = cons.merge(email_df, on=\"cons_id\", how=\"left\")\n",
    "\n",
    "# Filter for columns needed\n",
    "final_df = final_df[['email', 'source','isunsub', 'create_dt', 'modified_dt']]\n",
    "\n",
    "# Save as csv file in working directory\n",
    "final_df.to_csv('people.csv', index=False)"
   ]
  },
  {
   "cell_type": "code",
   "execution_count": 62,
   "metadata": {},
   "outputs": [],
   "source": [
    "# Aggregate by date of creation\n",
    "acq_df = final_df.groupby([final_df['create_dt'].dt.date]).count()[['create_dt']]\n",
    "\n",
    "# Format dataframe\n",
    "acq_df.index.rename('acquisition_date', inplace=True)\n",
    "acq_df.columns = ['acquisitions']\n",
    "\n",
    "# Save as csv file in working directory\n",
    "acq_df.to_csv('acquisition_facts.csv')"
   ]
  }
 ],
 "metadata": {
  "kernelspec": {
   "display_name": "Python 3",
   "language": "python",
   "name": "python3"
  },
  "language_info": {
   "codemirror_mode": {
    "name": "ipython",
    "version": 3
   },
   "file_extension": ".py",
   "mimetype": "text/x-python",
   "name": "python",
   "nbconvert_exporter": "python",
   "pygments_lexer": "ipython3",
   "version": "3.7.3"
  }
 },
 "nbformat": 4,
 "nbformat_minor": 2
}
